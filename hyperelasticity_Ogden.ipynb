{
 "cells": [
  {
   "cell_type": "markdown",
   "metadata": {
    "slideshow": {
     "slide_type": "slide"
    }
   },
   "source": [
    "[**Dr. Kevin M. Moerman**](mailto:kevin.moerman@nuigalway.ie), _Lecturer in Biomedical Engineering_   \n",
    "\n",
    "National University of Ireland Galway.   \n",
    "\n",
    "---"
   ]
  },
  {
   "cell_type": "markdown",
   "metadata": {
    "slideshow": {
     "slide_type": "skip"
    }
   },
   "source": [
    "\\newpage"
   ]
  },
  {
   "cell_type": "markdown",
   "metadata": {
    "slideshow": {
     "slide_type": "skip"
    }
   },
   "source": [
    "This is an [Octave](https://www.gnu.org/software/octave/) (an open source alternative to MATLAB) [Jupyter notebook](https://jupyter.org/)"
   ]
  },
  {
   "cell_type": "markdown",
   "metadata": {
    "slideshow": {
     "slide_type": "skip"
    }
   },
   "source": [
    "\\newpage"
   ]
  },
  {
   "cell_type": "markdown",
   "metadata": {
    "slideshow": {
     "slide_type": "slide"
    }
   },
   "source": [
    "# Hyperelastic materials\n",
    "\n",
    "## Introduction\n",
    "* So-called __hyperelastic__ formulations are non-linear constitutive (material behaviour) \"laws\" which are useful to describe nonlinear elastic materials undergoing large (finite strain) deformation.   \n",
    "  \n",
    "\n",
    "* In hyperelasticity the constitutive or material law is defined by a so __strain energy density__ function often denoted by a $W$ or $\\Psi$ symbol.   \n",
    "  \n",
    "\n",
    "* $\\Psi$ is a __scalar function__ (so not a tensor or vector valued function). \n",
    "  \n",
    "\n",
    "* The strain energy density function has units of __energy per unit volume__ such as $J/m^3$.   \n",
    "  \n",
    " \n",
    "* However if one recalls that $J$ can be written in terms of $Nm$, then we see that $J/m^3=Nm/m^3=N/m^2$, which means we may equivalently say that $\\Psi$ has __units of stress__. "
   ]
  },
  {
   "cell_type": "markdown",
   "metadata": {
    "slideshow": {
     "slide_type": "slide"
    }
   },
   "source": [
    "## Stress computation\n",
    "* Derivatives of $\\Psi$ with a deformation metric provide a stress metric (there are different types of strains each with their own _work conjugate_ stress type).   \n",
    "  \n",
    "\n",
    "* For instance, the second _Piola-Kirchoff stress_ $\\mathbf{S}$ is obtained through the derivative with the _Green-Lagrange strain_ $\\mathbf{E}$\n",
    "$$\\mathbf{S}=\\frac{\\partial \\Psi}{\\partial \\mathbf{E}}$$\n",
    "  \n",
    "  \n",
    "* We tend to focus on the _true stress_ or __Cauchy stress__ $\\boldsymbol{\\sigma}$, which is obtained through with the aid of the _deformation gradient tensor_ $\\mathbf{F}$: \n",
    "\n",
    "$$\\boldsymbol{\\sigma}=J^{-1}\\mathbf{F}\\mathbf{S}\\mathbf{F}^\\top$$\n",
    "\n",
    "* In some cases formulations are specified using the _principal stretches_ $\\lambda_i$. These may also be used to derived (principal) stresses e.g.: \n",
    "$$\\sigma_i=J^{-1} \\lambda_i \\frac{\\partial \\Psi}{\\partial \\lambda_i}$$"
   ]
  },
  {
   "cell_type": "markdown",
   "metadata": {
    "slideshow": {
     "slide_type": "slide"
    }
   },
   "source": [
    "## Three types of hyperelastic formulations\n",
    "* Three types of hyperelastic formulation types are treated, here with a focus on the Ogden formulation:  \n",
    "  \n",
    "1. __Constrained__ formulations (a.k.a \"incompressible\" formulations)   \n",
    "$$\\Psi(\\lambda_1,\\lambda_2,\\lambda_3)=\\sum_{a=1}^{N} \\frac{c_a}{m_a^2}\\big(\\lambda_1^{m_a}+\\lambda_2^{m_a}+\\lambda_3^{m_a}-3\\big)$$\n",
    "  \n",
    "2. __Unconstrained__ or __coupled__ formulations (a.k.a \"compressible\" formulations)  \n",
    "$$\\Psi(\\lambda_1,\\lambda_2,\\lambda_3)=\\frac{\\kappa'}{2}(J-1)^2 + \\sum_{a=1}^{N} \\frac{c_a}{m_a^2}\\big(\\lambda_1^{m_a}+\\lambda_2^{m_a}+\\lambda_3^{m_a}-3 - m_a \\ln{(J)}\\big)$$\n",
    "  \n",
    "3. __Uncoupled__ formulations (a.k.a \"nearly incompressible\" formulations)  \n",
    "$$\\Psi(\\tilde{\\lambda}_1,\\tilde{\\lambda}_2,\\tilde{\\lambda}_3)=\\frac{\\kappa}{2}\\ln{(J)}^2 + \\sum_{a=1}^{N} \\frac{c_a}{m_a^2}\\big(\\tilde{\\lambda}_1^{m_a}+\\tilde{\\lambda}_2^{m_a}+\\tilde{\\lambda}_3^{m_a}-3\\big)$$\n",
    "\n",
    "  \n",
    "* This notebook discusses these and provides example implementations for uniaxial loading and first order $N=1$ __Ogden hyperelastic__ formulations. \n",
    " \n",
    "For more background information see chapter 6 Hyperelasticity\" in Holzapfel's book: _G. Holzapfel, Nonlinear solid mechanics: A continuum approach for engineering. John Wiley & Sons Ltd., 2000._"
   ]
  },
  {
   "cell_type": "markdown",
   "metadata": {},
   "source": [
    "#### Side note\n",
    "It is important to note that the exact implementation of material formulations might depend on the software used. The formulations presented above are implemented as such in FEBio (see also [here](https://help.febio.org/FebioUser/FEBio_um_3-4-4.1.2.9.html)). For instance the Abaqus implementation is instead (see also [here](https://abaqus-docs.mit.edu/2017/English/SIMACAEMATRefMap/simamat-c-hyperelastic.htm)): \n",
    "$$\\Psi(\\tilde{\\lambda}_1,\\tilde{\\lambda}_2,\\tilde{\\lambda}_3)=\\sum_{a=1}^{N} \\frac{2\\mu_i}{m_a^2}\\big(\\tilde{\\lambda}_1^{m_a}+\\tilde{\\lambda}_2^{m_a}+\\tilde{\\lambda}_3^{m_a}-3\\big)+\\frac{1}{D_a}(J-1)^{2a}$$\n",
    "With the initial bulk modulus $\\kappa_0=\\frac{2}{D_1}$. Note the difference in terms of $2\\mu_a$ instead of $c_a$, and the use of $D$ factors rather than a single bulk modulus $\\kappa$. It is important to study the right formulation and to be careful when using parameters from other formulation types seen in the literature. Where possible it is best to fit your model to experimental data. "
   ]
  },
  {
   "cell_type": "markdown",
   "metadata": {
    "slideshow": {
     "slide_type": "slide"
    }
   },
   "source": [
    "### Anatomy of the Ogden formulation \n",
    "\n",
    "* Typically the Ogden formulation looks something like this (contrained form showed here, implementations vary depending on software): \n",
    "$$\\Psi(\\lambda_1,\\lambda_2,\\lambda_3)=\\sum_{a=1}^{N} \\frac{c_a}{m_a^2}\\big(\\lambda_1^{m_a}+\\lambda_2^{m_a}+\\lambda_3^{m_a}-3\\big)$$\n",
    "\n",
    "* If we \"distribute\" the -3 as a set of -1's, and work a factor $\\frac{1}{m_a}$ into the summation we can see the above is equivalent to: \n",
    "$$\\Psi(\\lambda_1,\\lambda_2,\\lambda_3)=\\sum_{a=1}^{N} \\frac{c_a}{m_a}\\big(\\frac{1}{m_a}(\\lambda_1^{m_a}-1) + \\frac{1}{m_a}(\\lambda_2^{m_a}-1)+\\frac{1}{m_a}(\\lambda_3^{m_a}-1) \\big)$$\n",
    "\n",
    "* Now one may recognize these as the Seth-Hill class of strains\n",
    "$$E^{(m_a)}_i=\\frac{1}{m_a}(\\lambda_i^{m_a}-1)$$\n",
    "\n",
    "* For instance using $m_a=2$ makes it use the Green-Lagrange strain $\\mathbf{E}$\n",
    "$$E_i=\\frac{1}{2}(\\lambda_i^{2}-1)$$\n",
    "\n",
    "* Furthermore we may recognize that the sum of such parts for is actually the trace of such a strain tensor leading to: \n",
    "$$\\Psi=\\sum_{a=1}^{N} \\frac{c_a}{m_a}\\mathrm{tr}(\\mathbf{E}^{(m_a)})$$\n",
    "\n",
    "* So the Ogden formulation is a powerful law where we define energies by scaling (multiplying) the trace of a chosen _\"strain type\"_ (defined by $m_a$) by a stiffness parameter $c_a$. Summing lots of terms ($N>1$) allows one to capture complex stiffnening behaviour. "
   ]
  },
  {
   "cell_type": "markdown",
   "metadata": {
    "slideshow": {
     "slide_type": "slide"
    }
   },
   "source": [
    "* The Ogden formulation can also conveniently be used as the __\"mother\" of many other formulations__ \n",
    "   \n",
    "\n",
    "* Using $N=1$ and $m_1=2$ makes the Ogden formulation reduce to a __Neo-Hookean__ formulation\n",
    "$$\\Psi(\\lambda_1,\\lambda_2,\\lambda_3)=\\frac{c_1}{4}\\big(\\lambda_1^{2}+\\lambda_2^{2}+\\lambda_3^{2}-3\\big)=\\frac{c_1}{4}\\big(I_1-3\\big)=\\frac{c_1}{2}\\mathrm{tr}(\\mathbf{E})$$\n",
    "     \n",
    "     \n",
    "* The Neo-Hookean is one of the simples hyperelastic formulations and is named after the fact that it can be thought of as an extension of Hooke's law to non-linear solid mechanics (it reduces to Hooke's law for infinitesimal strains). \n",
    "\n",
    "\n",
    "* Using $N=2$ and $m_1=-m_2=2$ makes the Ogden formulation reduce to a __Mooney-Rivlin__ formulation (if $J=1$)\n",
    "$$\\Psi(\\lambda_1,\\lambda_2,\\lambda_3)=\\frac{c_1}{4}\\big(\\lambda_1^{2}+\\lambda_2^{2}+\\lambda_3^{2}-3\\big)+\\frac{c_2}{4}\\big(\\lambda_1^{-2}+\\lambda_2^{-2}+\\lambda_3^{-2}-3\\big)=\\frac{c_1}{4}\\big(I_1-3\\big)+\\frac{c_2}{4}\\big(I_2-3\\big)$$\n",
    "  \n",
    "  \n",
    "_In the above $I_1$ and $I_2$ are known as the first and second invariants of the right Cauchy green tensor $\\mathbf{C}$. These often appear in the literature._"
   ]
  },
  {
   "cell_type": "markdown",
   "metadata": {
    "slideshow": {
     "slide_type": "skip"
    }
   },
   "source": [
    "\\newpage"
   ]
  },
  {
   "cell_type": "markdown",
   "metadata": {
    "slideshow": {
     "slide_type": "slide"
    }
   },
   "source": [
    "#### Defining shared variables used by the example numerical implementations"
   ]
  },
  {
   "cell_type": "code",
   "execution_count": 1,
   "metadata": {
    "slideshow": {
     "slide_type": "fragment"
    }
   },
   "outputs": [],
   "source": [
    "%% Define parameters common to all examples\n",
    "\n",
    "%Define material parameters\n",
    "N=1; %The Ogden law order\n",
    "c1=1; %The shear modulus like parameter\n",
    "m1=12; %The non-linearity parameter\n",
    "kp=1000; %Bulk modulus like parameter (used for constrained model)\n",
    "k=kp; %Bulk modulus (used for uncoupled model)\n",
    "\n",
    "%Derive applied stretch\n",
    "appliedStretch=1.3; %Set applied stretch\n",
    "nDataPoints=50; %Number of data points to use for evaluation and graph\n",
    "lambda_3=linspace(1,appliedStretch,nDataPoints); %The 3 direction stretch"
   ]
  },
  {
   "cell_type": "markdown",
   "metadata": {
    "slideshow": {
     "slide_type": "skip"
    }
   },
   "source": [
    "\\newpage"
   ]
  },
  {
   "cell_type": "markdown",
   "metadata": {
    "slideshow": {
     "slide_type": "slide"
    }
   },
   "source": [
    "## Constrained formulations\n",
    "* The word \"constrained\" relates to the fact that incompressible behaviour (no volume change) is enforced in the formulation. \n",
    "\n",
    "* These formulations are not really used in FEA and instead serve as means to easily derive analytical solutions for incompressible behaviour \"by hand\". \n",
    "\n"
   ]
  },
  {
   "cell_type": "markdown",
   "metadata": {
    "slideshow": {
     "slide_type": "slide"
    }
   },
   "source": [
    "### The constrained Ogden formulation\n",
    "* The constrained Ogden formulation is often presented as: \n",
    "$$\\Psi(\\lambda_1,\\lambda_2,\\lambda_3)=\\sum_{a=1}^{N} \\frac{c_a}{m_a^2}\\big(\\lambda_1^{m_a}+\\lambda_2^{m_a}+\\lambda_3^{m_a}-3\\big)$$\n",
    "\n",
    "* However, something is missing in the above, namely the treatment of the hydrostatic presssure $p$ and its contribution. \n",
    "$$\\Psi(\\lambda_1,\\lambda_2,\\lambda_3,p)=U(p) + \\sum_{a=1}^{N} \\frac{c_a}{m_a^2}\\big(\\lambda_1^{m_a}+\\lambda_2^{m_a}+\\lambda_3^{m_a}-3\\big)$$\n",
    "\n",
    "* For these constrained forms the contribution $U(p)$ is not derived from the constitutive equation but is instead determined using the boundary conditions. \n"
   ]
  },
  {
   "cell_type": "markdown",
   "metadata": {
    "slideshow": {
     "slide_type": "slide"
    }
   },
   "source": [
    "* Below an example for uniaxial loading is presented. \n",
    "\n",
    "* The uniaxial load (e.g. a tensile or compressive stretch) is here specified in the 3rd (or Z) direction, which means $\\lambda_3 \\neq 1$. \n",
    "\n",
    "* Using the \"incompressiblity\" and uniaxial loading assumption we can formulate some useful relations to help solve for the stress. \n",
    "\n",
    "* First of all, the uniaxial conditions mean the other \"lateral\" stretches are equivalent:\n",
    "$$\\lambda_1=\\lambda_2$$\n",
    "\n",
    "* Secondly, if the material is truely incompressible we have $J=\\lambda_1 \\lambda_2 \\lambda_3 = 1$, and since $\\lambda_1=\\lambda_2$ we can derive: \n",
    "\n",
    "$$J= \\lambda_1 \\lambda_1 \\lambda_3 = \\lambda_1^2 \\lambda_3 = 1 \\rightarrow \\lambda_1=\\lambda_2= \\sqrt{\\frac{1}{\\lambda_3}}=\\lambda_3^{-\\frac{1}{2}}$$\n",
    "\n",
    "* Thirdly for uniaxial conditions there is only one none-zero stress, the applied stress $\\sigma_3=\\sigma_{33}$, therefore: \n",
    "$$\\sigma_1=\\sigma_2=\\sigma_{11}=\\sigma_{22}=0$$\n",
    "\n",
    "* So now with an assummed $J=1$, the ability to express all stretches in terms of $\\lambda_3$ (the known applied stretch), and the fact that $\\sigma_1=\\sigma_2=0$, we are ready to start tackling the full stress evaluation. \n"
   ]
  },
  {
   "cell_type": "markdown",
   "metadata": {
    "slideshow": {
     "slide_type": "slide"
    }
   },
   "source": [
    "* First the Cauchy stress tensor $\\boldsymbol{\\sigma}$ is defined as: \n",
    "$$\\boldsymbol{\\sigma}=\\bar{\\boldsymbol{\\sigma}}-\\bar{p}\\mathbf{I}$$\n",
    "\n",
    "* The contribution $\\bar{\\boldsymbol{\\sigma}}$ is derived from the constitutive equation:\n",
    "$$\\Psi(\\lambda_1,\\lambda_2,\\lambda_3)=\\sum_{a=1}^{N} \\frac{c_a}{m_a^2}\\big(\\lambda_1^{m_a}+\\lambda_2^{m_a}+\\lambda_3^{m_a}-3\\big)$$\n",
    "\n",
    "    and is obtained from: \n",
    "$$\\bar{\\sigma}_i=\\lambda_i \\frac{\\partial \\Psi}{\\partial \\lambda_i}$$\n",
    "\n",
    "* Leading to: \n",
    "$$\\bar{\\sigma}_i=\\sum_{a=1}^{N} \\frac{c_a}{m_a}\\lambda_i^{m_a}$$"
   ]
  },
  {
   "cell_type": "markdown",
   "metadata": {
    "slideshow": {
     "slide_type": "slide"
    }
   },
   "source": [
    "* The next step is to determine $\\bar{p}$ in this relation: \n",
    "$$\\boldsymbol{\\sigma}=\\bar{\\boldsymbol{\\sigma}}-\\bar{p}\\mathbf{I}$$\n",
    "\n",
    "* First lets rewrite the above in terms of the principal components $\\sigma_i$\n",
    "$$\\sigma_i=-\\bar{p} +\\sum_{a=1}^{N} \\frac{c_a}{m_a}\\lambda_i^{m_a}$$\n",
    "\n",
    "* Next we use $\\sigma_1=\\sigma_2=0$ to derive an expression for $\\bar{p}$:\n",
    "$$\\sigma_1=\\sigma_2=-\\bar{p} + \\sum_{a=1}^{N} \\frac{c_a}{m_a}\\lambda_1^{m_a}=0$$\n",
    "\n",
    "$$\\rightarrow \\bar{p}=\\sum_{a=1}^{N} \\frac{c_a}{m_a} \\lambda_1^{m_a}$$"
   ]
  },
  {
   "cell_type": "markdown",
   "metadata": {
    "slideshow": {
     "slide_type": "slide"
    }
   },
   "source": [
    "* Finaly, implementing $\\lambda_1=\\lambda_2=\\lambda_3^{-\\frac{1}{2}}$ leads to: \n",
    "$$\\rightarrow \\bar{p}=\\sum_{a=1}^{N} \\frac{c_a}{m_a}(\\lambda_3^{-\\frac{1}{2}})^{m_a}=\\sum_{a=1}^{N} \\frac{c_a}{m_a} \\lambda_3^{-\\frac{m_a}{2}} $$\n",
    "\n",
    "* Which therefore allows for the formulation of an expression for $\\bar{\\sigma}_3$: \n",
    "$$\\sigma_3=-\\bar{p} + \\sum_{a=1}^{N} \\frac{c_a}{m_a} \\lambda_3^{m_a}=-\\sum_{a=1}^{N} \\frac{c_a}{m_a} \\lambda_3^{-\\frac{m_a}{2}} + \\sum_{a=1}^{N} \\frac{c_a}{m_a} \\lambda_3^{m_a}$$\n",
    "\n",
    "* Which can be simplified to: \n",
    "$$\\sigma_3=\\sum_{a=1}^{N} \\frac{c_a}{m_a}\\big(\\lambda_3^{m_a} - \\lambda_3^{-\\frac{m_a}{2}} \\big)$$\n"
   ]
  },
  {
   "cell_type": "markdown",
   "metadata": {
    "slideshow": {
     "slide_type": "slide"
    }
   },
   "source": [
    "* The full Cauchy stress tensor can then be written as: \n",
    "$$\\boldsymbol{\\sigma}=\\sigma_3 \\begin{bmatrix} 0 & 0 & 0 \\\\ 0 & 0 & 0 \\\\ 0 & 0 & 1\\end{bmatrix}=\\sum_{a=1}^{N} \\frac{c_a}{m_a}\\big(\\lambda_3^{m_a} - \\lambda_3^{-\\frac{m_a}{2}} \\big) \\begin{bmatrix} 0 & 0 & 0 \\\\ 0 & 0 & 0 \\\\ 0 & 0 & 1\\end{bmatrix}$$\n",
    "  \n",
    " \n",
    "* Note that although $\\bar{p}$ is a type of pressure contribution, it should not be confused with the full hydrostatic pressure $p$ which is derived from: \n",
    "$$p=-\\frac{1}{3}\\mathrm{tr}{(\\boldsymbol{\\sigma})}=-\\frac{\\sigma_3}{3}$$\n",
    "    "
   ]
  },
  {
   "cell_type": "markdown",
   "metadata": {
    "slideshow": {
     "slide_type": "skip"
    }
   },
   "source": [
    "\\newpage"
   ]
  },
  {
   "cell_type": "markdown",
   "metadata": {
    "slideshow": {
     "slide_type": "slide"
    }
   },
   "source": [
    "### Numerical implementation\n",
    "#### Compute stresses"
   ]
  },
  {
   "cell_type": "code",
   "execution_count": 2,
   "metadata": {
    "slideshow": {
     "slide_type": "fragment"
    }
   },
   "outputs": [],
   "source": [
    "%% The constrained formulation\n",
    "\n",
    "%Direct stress computation\n",
    "S3=(c1/m1).*(lambda_3.^m1-lambda_3.^(-m1/2));\n",
    "S1=zeros(size(S3));\n",
    "S2=zeros(size(S3));\n",
    "\n",
    "%Compute Jacobian for plotting\n",
    "lambda_1=sqrt(1./lambda_3);\n",
    "lambda_2=lambda_1;\n",
    "J=lambda_1.*lambda_2.*lambda_3; "
   ]
  },
  {
   "cell_type": "markdown",
   "metadata": {
    "slideshow": {
     "slide_type": "slide"
    }
   },
   "source": [
    "#### Visualize stresses"
   ]
  },
  {
   "cell_type": "code",
   "execution_count": 3,
   "metadata": {
    "slideshow": {
     "slide_type": "fragment"
    }
   },
   "outputs": [
    {
     "data": {
      "image/png": "[encoded data removed]",
      "text/plain": [
       "<IPython.core.display.Image object>"
      ]
     },
     "metadata": {},
     "output_type": "display_data"
    }
   ],
   "source": [
    "%Visualize stress graphs\n",
    "figure; hold on; \n",
    "title(['Constrained form. Cauchy stress, min: ',num2str(min(S3(:))),...\n",
    "', max: ',num2str(max(S3(:)))]); %Add title\n",
    "h1=plot(lambda_3,S1,'r-','LineWidth',20); %The 1 direction principal stress\n",
    "h2=plot(lambda_3,S2,'g-','LineWidth',15); %The 2 direction principal stress\n",
    "h3=plot(lambda_3,S3,'b-','LineWidth',10); %The 3 direction principal stress\n",
    "hl=legend([h1 h2 h3],{'\\sigma_1','\\sigma_2','\\sigma_3'}); %Add legend\n",
    "set(hl,'FontSize',15,'Location','NorthEastOutside','Box','off'); %Adjust legend\n",
    "axis tight; axis square; grid on; box on; \n",
    "set(gca,'FontSize',15);"
   ]
  },
  {
   "cell_type": "markdown",
   "metadata": {
    "slideshow": {
     "slide_type": "slide"
    }
   },
   "source": [
    "#### Visualize Jacobian"
   ]
  },
  {
   "cell_type": "code",
   "execution_count": 4,
   "metadata": {
    "slideshow": {
     "slide_type": "fragment"
    }
   },
   "outputs": [
    {
     "data": {
      "image/png": "[encoded data removed]",
      "text/plain": [
       "<IPython.core.display.Image object>"
      ]
     },
     "metadata": {},
     "output_type": "display_data"
    }
   ],
   "source": [
    "%Visualize Jacobian\n",
    "figure; hold on; \n",
    "title(['Constrained form. Jacobian, min: ',num2str(min(J(:))),...\n",
    "', max: ',num2str(max(J(:)))]); %Add title\n",
    "h1=plot(lambda_3,J,'k-','LineWidth',20); %The 1 direction principal stress\n",
    "hl=legend([h1],{'J'}); %Add legend\n",
    "set(hl,'FontSize',15,'Location','NorthEastOutside','Box','off'); %Adjust legend\n",
    "axis tight; axis square; grid on; box on; \n",
    "set(gca,'FontSize',15);"
   ]
  },
  {
   "cell_type": "markdown",
   "metadata": {
    "slideshow": {
     "slide_type": "skip"
    }
   },
   "source": [
    "\\newpage"
   ]
  },
  {
   "cell_type": "markdown",
   "metadata": {
    "slideshow": {
     "slide_type": "slide"
    }
   },
   "source": [
    "## Unconstrained formulations\n",
    "These formulations are also known as _coupled_ formulations (some literature refers to these formulations as \"_compressible_\"). \n",
    "\n",
    "* The unconstrained Ogden formulation is given by\n",
    "\n",
    "$$\\Psi(\\lambda_1,\\lambda_2,\\lambda_3)=\\frac{\\kappa'}{2}(J-1)^2 + \\sum_{a=1}^{N} \\frac{c_a}{m_a^2}\\big(\\lambda_1^{m_a}+\\lambda_2^{m_a}+\\lambda_3^{m_a}-3 - m_a \\ln{(J)}\\big)$$\n",
    "\n",
    "* The principal Cauchy stresses $\\sigma_i$ can be computed from: \n",
    "\n",
    "$$\\sigma_i=J^{-1} \\lambda_i \\frac{\\partial \\Psi}{\\partial \\lambda_i}$$\n",
    "\n",
    "* Leading to: \n",
    "\n",
    "$$\\sigma_i=\\kappa' \\big( J-1 \\big) + J^{-1} \\sum_{a=1}^{N} \\frac{c_a}{m_a}\\big(\\lambda_i^{m_a} - 1 \\big)$$\n"
   ]
  },
  {
   "cell_type": "markdown",
   "metadata": {
    "slideshow": {
     "slide_type": "slide"
    }
   },
   "source": [
    "### Step-by-step derivation: \n",
    "\n",
    "1. First compute\n",
    "$$J^{-1} \\lambda_i \\frac{\\partial}{\\partial \\lambda_i} \\big( \\frac{\\kappa'}{2}(J-1)^2 \\big)$$\n",
    "\n",
    "2. Use $J=\\lambda_1\\lambda_2\\lambda_3$, take derivative with respect to $\\lambda_3$, and use equivalence of result later for the other directions\n",
    "$$=J^{-1} \\lambda_3 \\frac{\\partial}{\\partial \\lambda_3} \\big( \\frac{\\kappa'}{2}(\\lambda_1\\lambda_2\\lambda_3-1)^2 \\big)$$\n",
    "\n",
    "3. Expand square\n",
    "$$=J^{-1} \\lambda_3 \\frac{\\partial}{\\partial \\lambda_3} \\big( \\frac{\\kappa'}{2}(\\lambda_1^2\\lambda_2^2\\lambda_3^2-2\\lambda_1\\lambda_2\\lambda_3+1) \\big)$$"
   ]
  },
  {
   "cell_type": "markdown",
   "metadata": {
    "slideshow": {
     "slide_type": "slide"
    }
   },
   "source": [
    "4. Evaluate derivative\n",
    "$$=J^{-1} \\lambda_3 \\frac{\\partial}{\\partial \\lambda_3} \\big( \\frac{\\kappa'}{2}(\\lambda_1^2\\lambda_2^2\\lambda_3^2-2\\lambda_1\\lambda_2\\lambda_3+1) \\big) = J^{-1} \\lambda_3 \\big( \\frac{\\kappa'}{2}(2\\lambda_1^2\\lambda_2^2\\lambda_3-2\\lambda_1\\lambda_2) \\big)$$\n",
    "\n",
    "5. Remove factor of 2\n",
    "$$=J^{-1} \\lambda_3 \\kappa' \\big( \\lambda_1^2\\lambda_2^2\\lambda_3-\\lambda_1\\lambda_2 \\big)$$\n",
    "\n",
    "6. Work in factor $\\lambda_3$\n",
    "$$=J^{-1} \\kappa' \\big( \\lambda_1^2\\lambda_2^2\\lambda_3^2-\\lambda_1\\lambda_2\\lambda_3 \\big)$$\n",
    "\n",
    "7. Recognize $J$ and $J^2$\n",
    "$$=J^{-1} \\kappa' \\big( J^2-J \\big)$$\n",
    "\n",
    "8. Process division by $J$ (multiply by $J^{-1}$). This result holds for any $\\lambda_i$\n",
    "$$=\\kappa' \\big( J-1 \\big)$$\n"
   ]
  },
  {
   "cell_type": "markdown",
   "metadata": {
    "slideshow": {
     "slide_type": "slide"
    }
   },
   "source": [
    "9. Now compute the next part:\n",
    "$$J^{-1} \\lambda_i \\frac{\\partial}{\\partial \\lambda_i} \\bigg( \\sum_{a=1}^{N} \\frac{c_a}{m_a^2}\\big(\\lambda_1^{m_a}+\\lambda_2^{m_a}+\\lambda_3^{m_a}-3 - m_a \\ln{(J)}\\big) \\bigg)$$\n",
    "\n",
    "10. First notice that summation can be moved: \n",
    "\n",
    "$$=\\sum_{a=1}^{N} J^{-1} \\lambda_i \\frac{\\partial}{\\partial \\lambda_i} \\bigg( \\frac{c_a}{m_a^2}\\big(\\lambda_1^{m_a}+\\lambda_2^{m_a}+\\lambda_3^{m_a}-3 - m_a \\ln{(J)}\\big) \\bigg)$$\n",
    "\n",
    "11. Next take derivative with respect to $\\lambda_3$ and aim to use symmetry with respect to any stretch\n",
    "\n",
    "$$=\\sum_{a=1}^{N} J^{-1} \\lambda_3 \\frac{\\partial}{\\partial \\lambda_3} \\bigg( \\frac{c_a}{m_a^2}\\big(\\lambda_1^{m_a}+\\lambda_2^{m_a}+\\lambda_3^{m_a}-3 - m_a \\ln{(J)}\\big) \\bigg)$$\n",
    "\n",
    "12. Use $\\frac{\\partial}{\\partial \\lambda_i}(\\lambda_i^{m_a})=m_a \\lambda_i^{m_a-1}$ and $\\ln{(J)}=\\ln{(\\lambda_1\\lambda_2\\lambda_3)}=\\ln{(\\lambda_1)}+\\ln{(\\lambda_2)}+\\ln{(\\lambda_3)}$\n",
    "\n",
    "$$=\\sum_{a=1}^{N} J^{-1} \\lambda_3 \\frac{c_a}{m_a^2}\\big( m_a \\lambda_3^{m_a-1} - \\frac{m_a}{\\lambda_3} \\big)$$"
   ]
  },
  {
   "cell_type": "markdown",
   "metadata": {
    "slideshow": {
     "slide_type": "slide"
    }
   },
   "source": [
    "13. Multiply by $\\lambda_3$ and move $J^{-1}$\n",
    "$$=J^{-1} \\sum_{a=1}^{N} \\frac{c_a}{m_a^2}\\big( m_a \\lambda_3^{m_a} - m_a \\big)$$\n",
    "\n",
    "14. Simplify by removing $m_a$ factor\n",
    "$$=J^{-1} \\sum_{a=1}^{N} \\frac{c_a}{m_a}\\big(\\lambda_3^{m_a} - 1 \\big)$$\n",
    "\n",
    "\n",
    "15. Generalise for any $\\lambda_i$:\n",
    "$$=J^{-1} \\sum_{a=1}^{N} \\frac{c_a}{m_a}\\big(\\lambda_i^{m_a} - 1 \\big)$$\n",
    "\n",
    "16. Combine step 8 and 15 to produce overall result:\n",
    "$$\\sigma_i=\\kappa' \\big( J-1 \\big) + J^{-1} \\sum_{a=1}^{N} \\frac{c_a}{m_a}\\big(\\lambda_i^{m_a} - 1 \\big)$$"
   ]
  },
  {
   "cell_type": "markdown",
   "metadata": {
    "slideshow": {
     "slide_type": "slide"
    }
   },
   "source": [
    "### How to compute stresses? \n",
    "* The stress equations have the unknown $J$ as well as $\\lambda_1$ and $\\lambda_2$: \n",
    "$$\\sigma_i=\\kappa' \\big( J-1 \\big) + J^{-1} \\sum_{a=1}^{N} \\frac{c_a}{m_a}\\big(\\lambda_i^{m_a} - 1 \\big)$$\n",
    "\n",
    "* The uniaxial loading conditions and boundary conditions help simplify this to a single unknown\n",
    "\n",
    "* First of all uniaxial loading in the 3rd or Z-direction means $$\\lambda_1=\\lambda_2$$\n",
    "\n",
    "* Next we can use the definition of the Jacobian to come to expressions for $\\lambda_1$ and $\\lambda_2$\n",
    "\n",
    "* Since we have $J=\\lambda_1 \\lambda_2 \\lambda_3$, and $\\lambda_1=\\lambda_2$ we can derive: \n",
    "$$J=\\lambda_1 \\lambda_2 \\lambda_3 = \\lambda_1 \\lambda_1 \\lambda_3 = \\lambda_1^2 \\lambda_3 $$\n",
    "$$\\rightarrow \\lambda_1=\\lambda_2= \\sqrt{\\frac{J}{\\lambda_3}}$$"
   ]
  },
  {
   "cell_type": "markdown",
   "metadata": {
    "slideshow": {
     "slide_type": "slide"
    }
   },
   "source": [
    "* The above shows that although $\\lambda_3$ is known, knowledge of $J$ is required in order to determine $\\lambda_1$ and $\\lambda_2$. Or conversely  $\\lambda_1$ (or $\\lambda_2$) needs to be determined allowing for the computation of $J$. Eitherway one unknown remains.   \n",
    "  \n",
    "\n",
    "* To solve for the unkown $J$ we may use the fact that $\\sigma_1=\\sigma_2=0$\n",
    "$$\\sigma_1=\\kappa' \\big( J-1 \\big) + J^{-1} \\sum_{a=1}^{N} \\frac{c_a}{m_a}\\big(\\lambda_1^{m_a} - 1 \\big)=0$$\n",
    "\n",
    "* If we solve for $J$ we can use $\\lambda_1=\\sqrt{\\frac{J}{\\lambda_3}}$ and write: \n",
    "$$\\sigma_1=\\kappa' \\big( J-1 \\big) + J^{-1} \\sum_{a=1}^{N} \\frac{c_a}{m_a}\\bigg(\\bigg(\\frac{J}{\\lambda_3}\\bigg)^{\\frac{m_a}{2}} - 1 \\bigg)$$  \n",
    "\n",
    "  \n",
    "* Or if instead we solve for $\\lambda_1$ we can use $J=\\lambda_1^2\\lambda_3$ and write:\n",
    "$$\\sigma_1=\\kappa' \\big( (\\lambda_1^2 \\lambda_3 )-1 \\big) + \\frac{1}{\\lambda_1^2 \\lambda_3} \\sum_{a=1}^{N} \\frac{c_a}{m_a}\\big(\\lambda_1^{m_a} - 1 \\big)=0$$  \n",
    "\n",
    "  \n",
    "* Solving these is not trivial but numerical solutions are derived below for $J$"
   ]
  },
  {
   "cell_type": "markdown",
   "metadata": {
    "slideshow": {
     "slide_type": "skip"
    }
   },
   "source": [
    "\\newpage"
   ]
  },
  {
   "cell_type": "markdown",
   "metadata": {
    "slideshow": {
     "slide_type": "slide"
    }
   },
   "source": [
    "### Numerical implementation\n",
    "#### Compute stresses"
   ]
  },
  {
   "cell_type": "code",
   "execution_count": 5,
   "metadata": {
    "slideshow": {
     "slide_type": "fragment"
    }
   },
   "outputs": [],
   "source": [
    "%% The unconstrained or coupled formulation \n",
    "\n",
    "% One approach is to define a function for S1 and to find the J for which it is zero. \n",
    "% For this application the fzero function is useful to find J for S1(J)=0.\n",
    "\n",
    "%Compute Jacobian given boundary conditions S1=S2=0\n",
    "J=zeros(size(lambda_3)); %Initialize an arry of J values which are all zeros\n",
    "for q=1:1:nDataPoints %Loop over all data points\n",
    "    %Create stress function with current lambda\n",
    "    S1_fun=@(J) kp*(J-1)+(1/J)*(c1/m1)*((sqrt(J/lambda_3(q)).^m1)-1);    \n",
    "    \n",
    "    %Find Jacobian for zero stress, use J=1 as initial\n",
    "    J(q)=fzero(S1_fun,1); %Find root of nonlinear function   \n",
    "end\n",
    "\n",
    "%Compute transverse stretches using J values\n",
    "lambda_1=sqrt(J./lambda_3);\n",
    "lambda_2=lambda_1; %Due to uniaxial loading\n",
    "\n",
    "%Compute principal stresses (note, these are not ordered)\n",
    "S1=kp*(J-1)+(1./J).*(c1/m1).*((lambda_1.^m1)-1);\n",
    "S2=kp*(J-1)+(1./J).*(c1/m1).*((lambda_2.^m1)-1);\n",
    "S3=kp*(J-1)+(1./J).*(c1/m1).*((lambda_3.^m1)-1);"
   ]
  },
  {
   "cell_type": "markdown",
   "metadata": {
    "slideshow": {
     "slide_type": "slide"
    }
   },
   "source": [
    "#### Visualize stresses"
   ]
  },
  {
   "cell_type": "code",
   "execution_count": 6,
   "metadata": {
    "slideshow": {
     "slide_type": "fragment"
    }
   },
   "outputs": [
    {
     "data": {
      "image/png": "[encoded data removed]",
      "text/plain": [
       "<IPython.core.display.Image object>"
      ]
     },
     "metadata": {},
     "output_type": "display_data"
    }
   ],
   "source": [
    "%Visualize stress graphs\n",
    "figure; hold on; \n",
    "title(['Unconstrained form. Cauchy stress, min: ',num2str(min(S3(:))),...\n",
    "', max: ',num2str(max(S3(:)))]); %Add title\n",
    "h1=plot(lambda_3,S1,'r-','LineWidth',20); %The 1 direction principal stress\n",
    "h2=plot(lambda_3,S2,'g-','LineWidth',15); %The 2 direction principal stress\n",
    "h3=plot(lambda_3,S3,'b-','LineWidth',10); %The 3 direction principal stress\n",
    "hl=legend([h1 h2 h3],{'\\sigma_1','\\sigma_2','\\sigma_3'}); %Add legend\n",
    "set(hl,'FontSize',15,'Location','NorthEastOutside','Box','off'); %Adjust legend\n",
    "axis tight; axis square; grid on; box on; \n",
    "set(gca,'FontSize',15);"
   ]
  },
  {
   "cell_type": "markdown",
   "metadata": {
    "slideshow": {
     "slide_type": "slide"
    }
   },
   "source": [
    "#### Visualize Jacobian"
   ]
  },
  {
   "cell_type": "code",
   "execution_count": 7,
   "metadata": {
    "slideshow": {
     "slide_type": "fragment"
    }
   },
   "outputs": [
    {
     "data": {
      "image/png": "[encoded data removed]",
      "text/plain": [
       "<IPython.core.display.Image object>"
      ]
     },
     "metadata": {},
     "output_type": "display_data"
    }
   ],
   "source": [
    "%Visualize Jacobian\n",
    "figure; hold on; \n",
    "title(['Unconstrained form. Jacobian, min: ',num2str(min(J(:))),...\n",
    "', max: ',num2str(max(J(:)))]); %Add title\n",
    "h1=plot(lambda_3,J,'k-','LineWidth',20); %The 1 direction principal stress\n",
    "hl=legend([h1],{'J'}); %Add legend\n",
    "set(hl,'FontSize',15,'Location','NorthEastOutside','Box','off'); %Adjust legend\n",
    "axis tight; axis square; grid on; box on; \n",
    "set(gca,'FontSize',15);"
   ]
  },
  {
   "cell_type": "markdown",
   "metadata": {
    "slideshow": {
     "slide_type": "slide"
    }
   },
   "source": [
    "#### Alternative solving method featuring interpolation"
   ]
  },
  {
   "cell_type": "code",
   "execution_count": 8,
   "metadata": {
    "slideshow": {
     "slide_type": "fragment"
    }
   },
   "outputs": [],
   "source": [
    "%% \n",
    "% For this approach the function for S1 is evaluate for a range of J which should cover the required J. \n",
    "% Where this graph crosses the x-axis S1(J)=0, and this point is approximated using interpolation.\n",
    "\n",
    "%Compute Jacobian given boundary conditions S1=S2=0\n",
    "nTestPoints=100; %Set up a number of test values (more=better but slower)\n",
    "J_test=linspace(0.9,1.1,nTestPoints); %The test J values\n",
    "J=zeros(size(lambda_3)); %Initialize an arry of J values which are all zeros\n",
    "for q=1:1:nDataPoints %Loop over all data points\n",
    "    %Compute test stresses\n",
    "    S1_test=kp*(J_test-1)+(1./J_test).*(c1/m1).*((sqrt(J_test./lambda_3(q)).^m1)-1);    \n",
    "    \n",
    "    %Find Jacobian for S1(J)=0 using interpolation\n",
    "    % J(q)=interp1(S1_test,J_test,0,'linear'); %linear interpolation   \n",
    "    J(q)=interp1(S1_test,J_test,0,'pchip'); %piece-wise cubic hermite interpolation   \n",
    "end\n",
    "\n",
    "%Compute transverse stretches using J values\n",
    "lambda_1=sqrt(J./lambda_3);\n",
    "lambda_2=lambda_1; %Due to uniaxial loading\n",
    "\n",
    "%Compute principal stresses (note, these are not ordered)\n",
    "S1=kp*(J-1)+(1./J).*(c1/m1).*((lambda_1.^m1)-1);\n",
    "S2=kp*(J-1)+(1./J).*(c1/m1).*((lambda_2.^m1)-1);\n",
    "S3=kp*(J-1)+(1./J).*(c1/m1).*((lambda_3.^m1)-1);"
   ]
  },
  {
   "cell_type": "markdown",
   "metadata": {
    "slideshow": {
     "slide_type": "slide"
    }
   },
   "source": [
    "#### Visualize stresses"
   ]
  },
  {
   "cell_type": "code",
   "execution_count": 9,
   "metadata": {
    "slideshow": {
     "slide_type": "fragment"
    }
   },
   "outputs": [
    {
     "data": {
      "image/png": "[encoded data removed]",
      "text/plain": [
       "<IPython.core.display.Image object>"
      ]
     },
     "metadata": {},
     "output_type": "display_data"
    }
   ],
   "source": [
    "%Visualize stress graphs\n",
    "figure; hold on; \n",
    "title(['Unconstrained form. Cauchy stress, min: ',num2str(min(S3(:))),...\n",
    "', max: ',num2str(max(S3(:)))]); %Add title\n",
    "h1=plot(lambda_3,S1,'r-','LineWidth',20); %The 1 direction principal stress\n",
    "h2=plot(lambda_3,S2,'g-','LineWidth',15); %The 2 direction principal stress\n",
    "h3=plot(lambda_3,S3,'b-','LineWidth',10); %The 3 direction principal stress\n",
    "hl=legend([h1 h2 h3],{'\\sigma_1','\\sigma_2','\\sigma_3'}); %Add legend\n",
    "set(hl,'FontSize',15,'Location','NorthEastOutside','Box','off'); %Adjust legend\n",
    "axis tight; axis square; grid on; box on; \n",
    "set(gca,'FontSize',15);"
   ]
  },
  {
   "cell_type": "markdown",
   "metadata": {
    "slideshow": {
     "slide_type": "slide"
    }
   },
   "source": [
    "#### Visualize Jacobian"
   ]
  },
  {
   "cell_type": "code",
   "execution_count": 10,
   "metadata": {
    "slideshow": {
     "slide_type": "fragment"
    }
   },
   "outputs": [
    {
     "data": {
      "image/png": "[encoded data removed]",
      "text/plain": [
       "<IPython.core.display.Image object>"
      ]
     },
     "metadata": {},
     "output_type": "display_data"
    }
   ],
   "source": [
    "%Visualize Jacobian\n",
    "figure; hold on; \n",
    "title(['Unconstrained form. Jacobian, min: ',num2str(min(J(:))),...\n",
    "', max: ',num2str(max(J(:)))]); %Add title\n",
    "h1=plot(lambda_3,J,'k-','LineWidth',20); %The 1 direction principal stress\n",
    "hl=legend([h1],{'J'}); %Add legend\n",
    "set(hl,'FontSize',15,'Location','NorthEastOutside','Box','off'); %Adjust legend\n",
    "axis tight; axis square; grid on; box on; \n",
    "set(gca,'FontSize',15);"
   ]
  },
  {
   "cell_type": "markdown",
   "metadata": {
    "slideshow": {
     "slide_type": "skip"
    }
   },
   "source": [
    "\\newpage"
   ]
  },
  {
   "cell_type": "markdown",
   "metadata": {
    "slideshow": {
     "slide_type": "slide"
    }
   },
   "source": [
    "## Uncoupled formulations\n",
    "* Given the numerical difficulties in handling truely incompressible behaviour (theoretically requiring $\\kappa=\\infty$) a special class of constitutive formulations has been developed referred to as _uncoupled_ formulations.\n",
    "  \n",
    "  \n",
    "* These uncoupled formulations are useful to model nearly-incompressible behaviour\n",
    "  \n",
    "  \n",
    "* The term _uncoupled_ relates to the fact that strain energy density $\\Psi$ is split into two additively seperated parts, namely: \n",
    "1. A purely _deviatoric_ (or isochoric = no volume change) part relating to shape change only $\\Psi_{dev}$\n",
    "1. A purely _volumetric_ part relating to volume change only $\\Psi_{vol}$\n",
    "\n",
    "$$\\Psi=\\Psi_{dev}+\\Psi_{vol}$$"
   ]
  },
  {
   "cell_type": "markdown",
   "metadata": {
    "slideshow": {
     "slide_type": "slide"
    }
   },
   "source": [
    "### Uncoupling the deformation\n",
    "* To accomodate the split special shape and volume changing deformation metrics are required.   \n",
    "  \n",
    "  \n",
    "* The Jacobian or volume ratio $J$ is already suitable  to describe volume change ($J=0.9$ means 10% volume loss, $J=1.1$ means 10% volume gain). \n",
    "  \n",
    "* From the definition $J=\\lambda_1\\lambda_2\\lambda_3$ one could imagine a single \"spherical\" average stretch $\\lambda$ which is the same in all directions such that: \n",
    "$$J=\\lambda_1\\lambda_2\\lambda_3=\\lambda\\lambda\\lambda=\\lambda^3 \\rightarrow \\lambda=J^{\\frac{1}{3}}$$\n",
    "\n",
    "* To \"take away\" the effect of this spherical volume changing stretch $\\lambda$ from each of the stretches we can multiply them by $\\frac{1}{\\lambda}=J^{-\\frac{1}{3}}$:\n",
    "$$\\tilde{\\lambda}_i=J^{-\\frac{1}{3}}\\lambda_i$$\n",
    "\n",
    "* This introduces the _deviatoric stretches_ denoted $\\tilde{\\lambda}_i$\n",
    "\n",
    "* We can check if these deviatoric stretches really only change the shape by computing $\\tilde{J}$ which should be 1 in magnitude for all stretches: \n",
    "$$\\tilde{J}=\\tilde{\\lambda}_1\\tilde{\\lambda}_2\\tilde{\\lambda}_3=J^{-\\frac{1}{3}}\\lambda_1J^{-\\frac{1}{3}}\\lambda_2J^{-\\frac{1}{3}}\\lambda_3=J^{-\\frac{1}{3}}J^{-\\frac{1}{3}}J^{-\\frac{1}{3}}\\lambda_1\\lambda_2\\lambda_3=\\frac{1}{J}J=1$$"
   ]
  },
  {
   "cell_type": "markdown",
   "metadata": {
    "slideshow": {
     "slide_type": "slide"
    }
   },
   "source": [
    "### The uncoupled Ogden formulation\n",
    "* The uncoupled Ogden formulation is given as: \n",
    "$$\\Psi(\\tilde{\\lambda}_1,\\tilde{\\lambda}_2,\\tilde{\\lambda}_3)=\\frac{\\kappa}{2}\\ln{(J)}^2 + \\sum_{a=1}^{N} \\frac{c_a}{m_a^2}\\big(\\tilde{\\lambda}_1^{m_a}+\\tilde{\\lambda}_2^{m_a}+\\tilde{\\lambda}_3^{m_a}-3\\big)$$\n",
    "\n",
    "* Where\n",
    "$$\\Psi_{vol}=\\frac{\\kappa}{2}\\ln{(J)}^2$$\n",
    "    and\n",
    "$$\\Psi_{dev}=\\sum_{a=1}^{N} \\frac{c_a}{m_a^2}\\big(\\tilde{\\lambda}_1^{m_a}+\\tilde{\\lambda}_2^{m_a}+\\tilde{\\lambda}_3^{m_a}-3\\big)$$\n",
    "\n",
    "* The principal Cauchy stresses $\\sigma_i$ can be computed from: \n",
    "\n",
    "$$\\boldsymbol{\\sigma}=\\boldsymbol{\\sigma}_{vol}+\\boldsymbol{\\sigma}_{dev}$$"
   ]
  },
  {
   "cell_type": "markdown",
   "metadata": {
    "slideshow": {
     "slide_type": "slide"
    }
   },
   "source": [
    "* The volumetric stress $\\boldsymbol{\\sigma}_{vol}$ is derived from: \n",
    "$$\\boldsymbol{\\sigma}_{vol}=p\\mathbf{I}$$ \n",
    "  \n",
    "    where the hydrostatic pressure is now derived directly from the constitutive equation:  \n",
    "    \n",
    "    $$p=\\frac{\\partial \\Psi_{vol}}{\\partial J}$$\n",
    "    resulting in: \n",
    "    $$\\boldsymbol{\\sigma}_{vol}=\\kappa\\frac{\\ln{(J)}}{J}\\mathbf{I}$$\n"
   ]
  },
  {
   "cell_type": "markdown",
   "metadata": {
    "slideshow": {
     "slide_type": "slide"
    }
   },
   "source": [
    "* The deviatoric stress $\\boldsymbol{\\sigma}_{dev}$ is derived from: \n",
    "$${\\sigma_{dev_i}}=J^{-1} \\lambda_i \\frac{\\partial \\Psi_{dev}}{\\partial \\lambda_i}=J^{-1} \\bigg( \\tilde{\\lambda}_i \\frac{\\partial \\Psi_{dev}}{\\partial \\tilde{\\lambda}_i} -\\frac{1}{3}\\sum_{j=1}^3\\tilde{\\lambda}_j \\frac{\\partial \\Psi_{dev}}{\\partial \\tilde{\\lambda}_j } \\bigg)$$  \n",
    "\n",
    "  \n",
    "* Since $J=\\lambda_1 \\lambda_2 \\lambda_3$, and $\\lambda_1=\\lambda_2$ (due to uniaxial loading in the 3rd direction) we can derive:  \n",
    "\n",
    "$$J=\\lambda_1 \\lambda_2 \\lambda_3 = \\lambda_1 \\lambda_1 \\lambda_3 = \\lambda_1^2 \\lambda_3 $$\n",
    "$$\\rightarrow \\lambda_1=\\lambda_2= \\sqrt{\\frac{J}{\\lambda_3}}$$\n",
    "  \n",
    "* Using \n",
    "$$\\tilde{\\lambda_i} \\frac{\\partial \\Psi_{dev}}{\\partial \\tilde{\\lambda}_i}=\\sum_{a=1}^{N} \\frac{c_a}{m_a}\\tilde{\\lambda}_i^{m_a}$$\n",
    "\n",
    "    we can formulate\n",
    "$$\\sigma_{dev_i}=J^{-1} \\sum_{a=1}^{N} \\frac{c_a}{m_a} \\bigg( \\tilde{\\lambda}_i^{m_a} -\\frac{1}{3} \\bigg( \\tilde{\\lambda}_1^{m_a} + \\tilde{\\lambda}_2^{m_a} + \\tilde{\\lambda}_3^{m_a} \\bigg) \\bigg)$$ "
   ]
  },
  {
   "cell_type": "markdown",
   "metadata": {
    "slideshow": {
     "slide_type": "slide"
    }
   },
   "source": [
    "$$\\sigma_{dev_i}=J^{-1} \\sum_{a=1}^{N} \\frac{c_a}{m_a} \\bigg( \\tilde{\\lambda}_i^{m_a} -\\frac{1}{3} \\bigg( \\tilde{\\lambda}_1^{m_a} + \\tilde{\\lambda}_2^{m_a} + \\tilde{\\lambda}_3^{m_a} \\bigg) \\bigg)$$ \n",
    "\n",
    "* Since $\\tilde{\\lambda}_1\\tilde{\\lambda}_2\\tilde{\\lambda}_3=1$ one may use $\\tilde{\\lambda}_1=\\tilde{\\lambda}_2=\\sqrt{\\frac{1}{\\tilde{\\lambda}_3}}={\\tilde{\\lambda}_3}^{-\\frac{1}{2}}$, and therefore: \n",
    "$$\\sigma_{dev_i}=J^{-1} \\sum_{a=1}^{N} \\frac{c_a}{m_a} \\bigg( \\tilde{\\lambda}_i^{m_a} -\\frac{1}{3} \\bigg( 2\\tilde{\\lambda}_3^{-\\frac{m_a}{2}} + \\tilde{\\lambda}_3^{m_a} \\bigg) \\bigg)$$ \n",
    "\n",
    "* Leading to:\n",
    "$$\\sigma_i=\\kappa\\frac{\\ln{(J)}}{J} + J^{-1} \\sum_{a=1}^{N} \\frac{c_a}{m_a} \\bigg( \\tilde{\\lambda}_i^{m_a} -\\frac{1}{3} \\bigg( 2\\tilde{\\lambda}_3^{-\\frac{m_a}{2}} + \\tilde{\\lambda}_3^{m_a} \\bigg) \\bigg)$$ \n",
    "\n",
    "* Which using $\\tilde{\\lambda}_1=\\tilde{\\lambda}_2={\\tilde{\\lambda}_3}^{-\\frac{1}{2}}$ gives the following for $\\sigma_1$ and $\\sigma_2$: \n",
    "$$\\sigma_1=\\sigma_2=\\kappa\\frac{\\ln{(J)}}{J} + J^{-1} \\sum_{a=1}^{N} \\frac{c_a}{m_a} \\bigg( \\tilde{\\lambda}_3^{-\\frac{m_a}{2}} -\\frac{1}{3} \\bigg( 2\\tilde{\\lambda}_3^{-\\frac{m_a}{2}} + \\tilde{\\lambda}_3^{m_a} \\bigg) \\bigg)=0$$ \n",
    "\n",
    "* Which using $\\tilde{\\lambda_3}=J^{-\\frac{1}{3}}\\lambda_3$ can be expressed in terms of $\\lambda_3$ as:\n",
    "$$\\sigma_1=\\sigma_2=\\kappa\\frac{\\ln{(J)}}{J} + J^{-1} \\sum_{a=1}^{N} \\frac{c_a}{m_a} \\bigg( (J^{-\\frac{1}{3}}\\lambda_3)^{-\\frac{m_a}{2}} -\\frac{1}{3} \\bigg( 2(J^{-\\frac{1}{3}}\\lambda_3)^{-\\frac{m_a}{2}} + (J^{-\\frac{1}{3}}\\lambda_3)^{m_a} \\bigg) \\bigg)=0$$ \n",
    "\n",
    "* Numerical metods are now needed to solve for J such that $\\sigma_1=\\sigma_2=0$ "
   ]
  },
  {
   "cell_type": "markdown",
   "metadata": {
    "slideshow": {
     "slide_type": "slide"
    }
   },
   "source": [
    "* **Note/tip**: To achieve nearly incompressible behaviour ($J\\approx1$), the bulk modulus $\\kappa$ is often set several orders of magnitude higher than the effective shear modulus (e.g. $c_1$ here). The codes here use $\\kappa=1000 c_1$."
   ]
  },
  {
   "cell_type": "markdown",
   "metadata": {
    "slideshow": {
     "slide_type": "skip"
    }
   },
   "source": [
    "\\newpage"
   ]
  },
  {
   "cell_type": "markdown",
   "metadata": {
    "slideshow": {
     "slide_type": "slide"
    }
   },
   "source": [
    "### Numerical implementation\n",
    "#### Compute stresses"
   ]
  },
  {
   "cell_type": "code",
   "execution_count": 11,
   "metadata": {
    "slideshow": {
     "slide_type": "fragment"
    }
   },
   "outputs": [],
   "source": [
    "%% The uncoupled formulation \n",
    "% One approach is to define a function for S1 and to find the J for which it is zero. \n",
    "% For this application the fzero function is useful to find J for S1(J)=0.\n",
    "\n",
    "%Compute Jacobian given boundary conditions S1=S2=0\n",
    "J=zeros(size(lambda_3)); %Initialize an arry of J values which are all zeros\n",
    "for q=1:1:nDataPoints %Loop over all data points\n",
    "    %Create stress function with current lambda    \n",
    "    S1_fun=@(J) k*(log(J)/J) +(1./J)*(c1/m1)*( (J^(-1/3)*lambda_3(q))^(-m1/2)-...\n",
    "    (1/3)*(2*(J^(-1/3)*lambda_3(q))^(-m1/2)+(J^(-1/3)*lambda_3(q))^m1) );    \n",
    "    \n",
    "    %Find Jacobian for zero stress, use J=1 as initial\n",
    "    J(q)=fzero(S1_fun,1); %Find root of nonlinear function   \n",
    "end\n",
    "\n",
    "%Compute transverse stretches using J values\n",
    "lambda_1=sqrt(J./lambda_3);\n",
    "lambda_2=lambda_1; %Due to uniaxial loading\n",
    "\n",
    "%Compute principal stresses (note, these are not ordered)\n",
    "part2=(1/3)*((J.^(-1/3).*lambda_1).^m1+(J.^(-1/3).*lambda_2).^m1+(J.^(-1/3).*lambda_3).^m1);\n",
    "\n",
    "S1=k*(log(J)./J)+(1./J).*((c1/m1).*((J.^(-1/3).*lambda_1).^m1-part2));\n",
    "S2=k*(log(J)./J)+(1./J).*((c1/m1).*((J.^(-1/3).*lambda_2).^m1-part2)); \n",
    "S3=k*(log(J)./J)+(1./J).*((c1/m1).*((J.^(-1/3).*lambda_3).^m1-part2)); "
   ]
  },
  {
   "cell_type": "markdown",
   "metadata": {
    "slideshow": {
     "slide_type": "slide"
    }
   },
   "source": [
    "#### Visualize stresses"
   ]
  },
  {
   "cell_type": "code",
   "execution_count": 12,
   "metadata": {
    "slideshow": {
     "slide_type": "fragment"
    }
   },
   "outputs": [
    {
     "data": {
      "image/png": "[encoded data removed]",
      "text/plain": [
       "<IPython.core.display.Image object>"
      ]
     },
     "metadata": {},
     "output_type": "display_data"
    }
   ],
   "source": [
    "%Visualize stress graphs\n",
    "figure; hold on; \n",
    "title(['Uncoupled form. Cauchy stress, min: ',num2str(min(S3(:))),...\n",
    "', max: ',num2str(max(S3(:)))]); %Add title\n",
    "h1=plot(lambda_3,S1,'r-','LineWidth',20); %The 1 direction principal stress\n",
    "h2=plot(lambda_3,S2,'g-','LineWidth',15); %The 2 direction principal stress\n",
    "h3=plot(lambda_3,S3,'b-','LineWidth',10); %The 3 direction principal stress\n",
    "hl=legend([h1 h2 h3],{'\\sigma_1','\\sigma_2','\\sigma_3'}); %Add legend\n",
    "set(hl,'FontSize',15,'Location','NorthEastOutside','Box','off'); %Adjust legend\n",
    "axis tight; axis square; grid on; box on; \n",
    "set(gca,'FontSize',15);"
   ]
  },
  {
   "cell_type": "markdown",
   "metadata": {
    "slideshow": {
     "slide_type": "slide"
    }
   },
   "source": [
    "#### Visualize Jacobian"
   ]
  },
  {
   "cell_type": "code",
   "execution_count": 13,
   "metadata": {
    "slideshow": {
     "slide_type": "fragment"
    }
   },
   "outputs": [
    {
     "data": {
      "image/png": "[encoded data removed]",
      "text/plain": [
       "<IPython.core.display.Image object>"
      ]
     },
     "metadata": {},
     "output_type": "display_data"
    }
   ],
   "source": [
    "%Visualize Jacobian\n",
    "figure; hold on; \n",
    "title(['Uncoupled form. Jacobian, min: ',num2str(min(J(:))),...\n",
    "', max: ',num2str(max(J(:)))]); %Add title\n",
    "h1=plot(lambda_3,J,'k-','LineWidth',20); %The 1 direction principal stress\n",
    "hl=legend([h1],{'J'}); %Add legend\n",
    "set(hl,'FontSize',15,'Location','NorthEastOutside','Box','off'); %Adjust legend\n",
    "axis tight; axis square; grid on; box on; \n",
    "set(gca,'FontSize',15);"
   ]
  }
 ],
 "metadata": {
  "@webio": {
   "lastCommId": null,
   "lastKernelId": null
  },
  "celltoolbar": "Slideshow",
  "kernelspec": {
   "display_name": "Octave",
   "language": "octave",
   "name": "octave"
  },
  "language_info": {
   "file_extension": ".m",
   "help_links": [
    {
     "text": "GNU Octave",
     "url": "https://www.gnu.org/software/octave/support.html"
    },
    {
     "text": "Octave Kernel",
     "url": "https://github.com/Calysto/octave_kernel"
    },
    {
     "text": "MetaKernel Magics",
     "url": "https://metakernel.readthedocs.io/en/latest/source/README.html"
    }
   ],
   "mimetype": "text/x-octave",
   "name": "octave",
   "version": "5.2.0"
  },
  "rise": {
   "enable_chalkboard": true
  }
 },
 "nbformat": 4,
 "nbformat_minor": 2
}
